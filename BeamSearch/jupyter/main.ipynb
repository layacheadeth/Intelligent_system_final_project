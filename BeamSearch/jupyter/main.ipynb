{
 "metadata": {
  "language_info": {
   "codemirror_mode": {
    "name": "ipython",
    "version": 3
   },
   "file_extension": ".py",
   "mimetype": "text/x-python",
   "name": "python",
   "nbconvert_exporter": "python",
   "pygments_lexer": "ipython3",
   "version": "3.9.4"
  },
  "orig_nbformat": 2,
  "kernelspec": {
   "name": "python394jvsc74a57bd04b33f16f8d4fec4b13f1ac5d1f56bb0003b8fbc9bfeab90b08869b8e13497d3f",
   "display_name": "Python 3.9.4 64-bit ('pie': conda)"
  }
 },
 "nbformat": 4,
 "nbformat_minor": 2,
 "cells": [
  {
   "source": [
    "# Beam Search Algorithm\n",
    "by: Arvin\n",
    "\n",
    "A beam search algorithm to solve RNN output (probabilities data). The function receives only csv file with semicolon (;) as the delimiter.\n",
    "\n",
    "### Spec\n",
    "|Libraries        |Version    |\n",
    "|-----------------|-----------|\n",
    "|Numpy            |1.20.1     |"
   ],
   "cell_type": "markdown",
   "metadata": {}
  },
  {
   "cell_type": "code",
   "execution_count": 1,
   "metadata": {},
   "outputs": [],
   "source": [
    "import numpy as np"
   ]
  },
  {
   "cell_type": "code",
   "execution_count": 2,
   "metadata": {},
   "outputs": [],
   "source": [
    "# FUNCTIONS\n",
    "\n",
    "# Soft max algorithm\n",
    "def softmax(mtx:np.ndarray):\n",
    "    newMtx = np.empty((0, np.shape(mtx)[1]), float)\n",
    "    for i in range(len(mtx)):\n",
    "        newMtx = np.vstack((newMtx, np.divide(np.exp(mtx[i]), np.sum(np.exp(mtx[i])))))\n",
    "    return newMtx"
   ]
  },
  {
   "cell_type": "code",
   "execution_count": 3,
   "metadata": {},
   "outputs": [],
   "source": [
    "# CONFIGS\n",
    "\n",
    "beamWidth = 3 # Beam width\n",
    "\n",
    "filePath = \"../assets/data/line/rnnOutput.csv\"\n",
    "\n",
    "# Classes\n",
    "c = np.append(np.array(list(\" !\\\"#&'()*+,-./0123456789:;?ABCDEFGHIJKLMNOPQRSTUVWXYZabcdefghijklmnopqrstuvwxyz\")), \"\")"
   ]
  },
  {
   "cell_type": "code",
   "execution_count": 4,
   "metadata": {},
   "outputs": [],
   "source": [
    "# Import CSV data\n",
    "csv = np.genfromtxt(filePath, delimiter=\";\")"
   ]
  },
  {
   "cell_type": "code",
   "execution_count": 5,
   "metadata": {},
   "outputs": [
    {
     "output_type": "stream",
     "name": "stdout",
     "text": [
      "the  fak  ffriendd  oof  thhe   fomlyy  haee  tC\nHhe  fak  ffriendd  oof  thhe   fomlyy  haee  tC\nhe  fak  ffriendd  oof  thhe   fomlyy  haee  tC\n"
     ]
    }
   ],
   "source": [
    "# CALCULATIONS (MAIN FUNCTION)\n",
    "\n",
    "mtx = softmax(csv) # Value matrix (possibilities) after using softmax algorithm\n",
    "indexes = np.empty((0,beamWidth), int) # Top [beamWidth] biggest possibilities's indexes of each rows in matrix\n",
    "\n",
    "# Get top [beamWidth] values' indexes\n",
    "# OLD METHOD:\n",
    "#   for i in range(len(mtx)):\n",
    "#       maxVals = np.sort(mtx[i])[:-beamWidth-1:-1] # Get the top [beamWidth] values\n",
    "#       rawIndexes = np.concatenate([(np.where(mtx[i] == v)[0]) for v in maxVals]) # Get the indexes (positions) of the values in each rows\n",
    "#       _, index = np.unique(rawIndexes, return_index=True) # Get only the unique indexes\n",
    "#       indexes = np.vstack((indexes, rawIndexes[np.sort(index)]))\n",
    "for i in range(len(mtx)):\n",
    "    rawIndexes = np.argsort(mtx[i])[:-beamWidth-1:-1]\n",
    "    indexes = np.vstack((indexes, rawIndexes))\n",
    "\n",
    "paths = indexes[0].reshape(beamWidth,1) # Result paths holder\n",
    "# Get the indexes of top [beamWidth] biggest probability\n",
    "for i in range(1, len(indexes)):\n",
    "    # np.argsort always increase sort. Therefore, it needs to be reversed by using [:-beamWidth-1:-1]\n",
    "    topIndexes = np.argsort(np.concatenate([mtx[i][indexes[i]] * x for x in mtx[i-1][paths.T[-1]]]), kind=\"mergesort\")[:-beamWidth-1:-1]\n",
    "    nxt = topIndexes % beamWidth # Next indexes position\n",
    "    prev = (topIndexes - nxt)//beamWidth # Previous indexes position\n",
    "    paths = np.concatenate((paths[prev], indexes[i][nxt].reshape(beamWidth,1)), axis=1)\n",
    "\n",
    "# Print out the result\n",
    "for res in c[paths]:\n",
    "    print(''.join(res))"
   ]
  },
  {
   "cell_type": "code",
   "execution_count": 6,
   "metadata": {},
   "outputs": [
    {
     "output_type": "stream",
     "name": "stdout",
     "text": [
      "[[1 0 1 0]\n [1 1 1 0]\n [2 1 1 0]]\n"
     ]
    }
   ],
   "source": [
    "# DUMMY TEST\n",
    "\n",
    "beamWidth = 3\n",
    "values = np.array([\n",
    "    [0.1,0.3,0.3],\n",
    "    [0.5,0.6,0.4],\n",
    "    [0.1,0.3,0.2],\n",
    "    [0.9,0.8,0.7],\n",
    "])\n",
    "\n",
    "indexes = np.array([\n",
    "    [2,1,0],\n",
    "    [1,0,2],\n",
    "    [1,2,0],\n",
    "    [0,1,2],\n",
    "])\n",
    "\n",
    "paths = indexes[0].reshape(beamWidth,1) # Result paths holder\n",
    "# Get the indexes of top [beamWidth] biggest probability\n",
    "for i in range(1, len(indexes)):\n",
    "    # np.argsort always increase sort. Therefore, it needs to be reversed by usin [:-beamWidth-1:-1]\n",
    "    topIndexes = np.argsort(np.concatenate([values[i][indexes[i]] * x for x in values[i-1][paths.T[-1]]]), kind=\"mergesort\")[:-beamWidth-1:-1]\n",
    "    nxt = topIndexes % beamWidth # Next indexes position\n",
    "    prev = (topIndexes - nxt)//beamWidth # Previous indexes position\n",
    "    paths = np.concatenate((paths[prev], indexes[i][nxt].reshape(beamWidth,1)), axis=1)\n",
    "print(paths)"
   ]
  }
 ]
}