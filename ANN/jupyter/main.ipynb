{
 "cells": [
  {
   "cell_type": "code",
   "execution_count": 1,
   "id": "84831c72",
   "metadata": {},
   "outputs": [],
   "source": [
    "import numpy as np"
   ]
  },
  {
   "cell_type": "code",
   "execution_count": 22,
   "metadata": {},
   "outputs": [],
   "source": [
    "def calc_neurons(inputs:np.ndarray, weights:np.ndarray, biases:np.ndarray):\n",
    "    return (np.dot(inputs, weights.T) + biases)"
   ]
  },
  {
   "cell_type": "code",
   "execution_count": 23,
   "id": "dacff1b6",
   "metadata": {},
   "outputs": [
    {
     "output_type": "execute_result",
     "data": {
      "text/plain": [
       "array([[ 4.8  ,  1.21 ,  2.385],\n",
       "       [ 8.9  , -1.81 ,  0.2  ],\n",
       "       [ 1.41 ,  1.051,  0.026]])"
      ]
     },
     "metadata": {},
     "execution_count": 23
    }
   ],
   "source": [
    "inputs = np.array([\n",
    "    [1,2,3, 2.5],\n",
    "    [2.0,5.0,-1.0,2.0],\n",
    "    [-1.5,2.7,3.3,-0.8],\n",
    "])\n",
    "\n",
    "weights = np.array([\n",
    "    [0.2,0.8,-0.5,1.0],\n",
    "    [0.5,-0.91,0.26,-0.5],\n",
    "    [-0.26,-0.27,0.17,0.87],\n",
    "])\n",
    "\n",
    "biases = np.array([2,3,0.5])\n",
    "\n",
    "out1:np.ndarray = calc_neurons(inputs, weights, biases)\n",
    "out1"
   ]
  },
  {
   "cell_type": "code",
   "execution_count": 24,
   "metadata": {},
   "outputs": [
    {
     "output_type": "execute_result",
     "data": {
      "text/plain": [
       "array([[ 0.5031 , -1.04185, -2.03875],\n",
       "       [ 0.2434 , -2.7332 , -5.7633 ],\n",
       "       [-0.99314,  1.41254, -0.35655]])"
      ]
     },
     "metadata": {},
     "execution_count": 24
    }
   ],
   "source": [
    "weights2 = np.array([\n",
    "    [0.1, -0.14, 0.5],\n",
    "    [-0.5, 0.12, -0.33],\n",
    "    [-0.44, 0.73, -0.13],    \n",
    "])\n",
    "\n",
    "biases2 = np.array([-1, 2, -0.5])\n",
    "\n",
    "out2:np.ndarray = calc_neurons(out1, weights2, biases2) \n",
    "out2"
   ]
  },
  {
   "cell_type": "code",
   "execution_count": 57,
   "metadata": {},
   "outputs": [],
   "source": [
    "class LayerDense:\n",
    "    weights:np.ndarray = np.empty(0)\n",
    "    biases:np.ndarray = np.empty(0)\n",
    "    output:np.ndarray = np.empty(0)\n",
    "    \n",
    "    def __init__(self, nInputs:int, nNeurons:int):\n",
    "        self.weights = 0.1 * np.random.randn(nInputs, nNeurons)\n",
    "        self.biases = np.zeros((1, nNeurons))\n",
    "    \n",
    "    def next(self, inputs):\n",
    "        self.output = np.dot(inputs, self.weights) + self.biases"
   ]
  },
  {
   "cell_type": "code",
   "execution_count": 58,
   "metadata": {},
   "outputs": [
    {
     "output_type": "execute_result",
     "data": {
      "text/plain": [
       "array([[ 0.148296  , -0.08397602],\n",
       "       [ 0.14100315, -0.01340469],\n",
       "       [ 0.20124979, -0.07290616]])"
      ]
     },
     "metadata": {},
     "execution_count": 58
    }
   ],
   "source": [
    "np.random.seed(0)\n",
    "l = LayerDense(4, 5)\n",
    "l2 = LayerDense(5, 2)\n",
    "\n",
    "l.next(inputs)\n",
    "l2.next(l.output)\n",
    "l2.output"
   ]
  }
 ],
 "metadata": {
  "kernelspec": {
   "name": "python394jvsc74a57bd04b33f16f8d4fec4b13f1ac5d1f56bb0003b8fbc9bfeab90b08869b8e13497d3f",
   "display_name": "Python 3.9.4 64-bit ('pie': conda)"
  },
  "language_info": {
   "codemirror_mode": {
    "name": "ipython",
    "version": 3
   },
   "file_extension": ".py",
   "mimetype": "text/x-python",
   "name": "python",
   "nbconvert_exporter": "python",
   "pygments_lexer": "ipython3",
   "version": "3.9.4"
  }
 },
 "nbformat": 4,
 "nbformat_minor": 5
}