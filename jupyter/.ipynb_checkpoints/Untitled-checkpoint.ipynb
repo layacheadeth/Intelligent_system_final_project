{
 "cells": [
  {
   "cell_type": "code",
   "execution_count": 1,
   "id": "87c743df",
   "metadata": {},
   "outputs": [],
   "source": [
    "import numpy as np"
   ]
  },
  {
   "cell_type": "code",
   "execution_count": 50,
   "id": "53179f8d",
   "metadata": {},
   "outputs": [],
   "source": [
    "inputs = np.array([[1,2,3, 2.5], [2.0,5.0,-1.0,2.0], [-1.5,2.7,3.3,-0.8]])\n",
    "weights = np.array([np.array([0.2,0.8,-0.5,1.0]), np.array([0.5,-0.91,0.26,-0.5]), np.array([-0.26,-0.27,0.17,0.87])])\n",
    "biases = np.array([2,3,0.5])"
   ]
  },
  {
   "cell_type": "code",
   "execution_count": 51,
   "id": "7a0a6607",
   "metadata": {},
   "outputs": [
    {
     "data": {
      "text/plain": [
       "array([4.8  , 1.21 , 2.385])"
      ]
     },
     "execution_count": 51,
     "metadata": {},
     "output_type": "execute_result"
    }
   ],
   "source": [
    "o = (np.dot(weights, inputs) + biases)\n",
    "o"
   ]
  },
  {
   "cell_type": "code",
   "execution_count": null,
   "id": "d6abcfe2",
   "metadata": {},
   "outputs": [],
   "source": []
  }
 ],
 "metadata": {
  "kernelspec": {
   "display_name": "Python 3",
   "language": "python",
   "name": "python3"
  },
  "language_info": {
   "codemirror_mode": {
    "name": "ipython",
    "version": 3
   },
   "file_extension": ".py",
   "mimetype": "text/x-python",
   "name": "python",
   "nbconvert_exporter": "python",
   "pygments_lexer": "ipython3",
   "version": "3.9.4"
  }
 },
 "nbformat": 4,
 "nbformat_minor": 5
}
